{
  "nbformat": 4,
  "nbformat_minor": 0,
  "metadata": {
    "colab": {
      "name": "Day4,Pandas",
      "provenance": [],
      "collapsed_sections": []
    },
    "kernelspec": {
      "name": "python3",
      "display_name": "Python 3",
      "language": "python"
    },
    "language_info": {
      "name": "python",
      "version": "3.8.6"
    }
  },
  "cells": [
    {
      "cell_type": "code",
      "metadata": {
        "id": "DDUeBraJpsx2"
      },
      "source": [
        "import pandas as pd\n",
        "import numpy as np"
      ],
      "execution_count": 2,
      "outputs": []
    },
    {
      "cell_type": "code",
      "metadata": {
        "colab": {
          "base_uri": "https://localhost:8080/"
        },
        "id": "144YM0elqbtV",
        "outputId": "a285dd83-4e3d-44ea-8edc-bb2777600665"
      },
      "source": [
        "#Let's read the data into a data frame\n",
        "weather_df = pd.read_csv(\"weather_2012.csv\")\n",
        "\n",
        "print(\"Shape:\", weather_df.shape)\n",
        "print(\"Index:\", weather_df.index)"
      ],
      "execution_count": 3,
      "outputs": [
        {
          "output_type": "stream",
          "name": "stdout",
          "text": [
            "Shape: (8784, 8)\nIndex: RangeIndex(start=0, stop=8784, step=1)\n"
          ]
        }
      ]
    },
    {
      "cell_type": "code",
      "metadata": {
        "colab": {
          "base_uri": "https://localhost:8080/",
          "height": 824
        },
        "id": "Lghi4YDnq0fR",
        "outputId": "7592de1f-b25a-43cf-d78a-c6de36e1a29b"
      },
      "source": [
        "#Let's inspect our dataset\n",
        "weather_df.head(25)"
      ],
      "execution_count": 4,
      "outputs": [
        {
          "output_type": "execute_result",
          "data": {
            "text/html": [
              "<div>\n",
              "<style scoped>\n",
              "    .dataframe tbody tr th:only-of-type {\n",
              "        vertical-align: middle;\n",
              "    }\n",
              "\n",
              "    .dataframe tbody tr th {\n",
              "        vertical-align: top;\n",
              "    }\n",
              "\n",
              "    .dataframe thead th {\n",
              "        text-align: right;\n",
              "    }\n",
              "</style>\n",
              "<table border=\"1\" class=\"dataframe\">\n",
              "  <thead>\n",
              "    <tr style=\"text-align: right;\">\n",
              "      <th></th>\n",
              "      <th>Date/Time</th>\n",
              "      <th>Temp (C)</th>\n",
              "      <th>Dew Point Temp (C)</th>\n",
              "      <th>Rel Hum (%)</th>\n",
              "      <th>Wind Spd (km/h)</th>\n",
              "      <th>Visibility (km)</th>\n",
              "      <th>Stn Press (kPa)</th>\n",
              "      <th>Weather</th>\n",
              "    </tr>\n",
              "  </thead>\n",
              "  <tbody>\n",
              "    <tr>\n",
              "      <th>0</th>\n",
              "      <td>2012-01-01 00:00:00</td>\n",
              "      <td>-1.8</td>\n",
              "      <td>-3.9</td>\n",
              "      <td>86</td>\n",
              "      <td>4</td>\n",
              "      <td>8.0</td>\n",
              "      <td>101.24</td>\n",
              "      <td>Fog</td>\n",
              "    </tr>\n",
              "    <tr>\n",
              "      <th>1</th>\n",
              "      <td>2012-01-01 01:00:00</td>\n",
              "      <td>-1.8</td>\n",
              "      <td>-3.7</td>\n",
              "      <td>87</td>\n",
              "      <td>4</td>\n",
              "      <td>8.0</td>\n",
              "      <td>101.24</td>\n",
              "      <td>Fog</td>\n",
              "    </tr>\n",
              "    <tr>\n",
              "      <th>2</th>\n",
              "      <td>2012-01-01 02:00:00</td>\n",
              "      <td>-1.8</td>\n",
              "      <td>-3.4</td>\n",
              "      <td>89</td>\n",
              "      <td>7</td>\n",
              "      <td>4.0</td>\n",
              "      <td>101.26</td>\n",
              "      <td>Freezing Drizzle,Fog</td>\n",
              "    </tr>\n",
              "    <tr>\n",
              "      <th>3</th>\n",
              "      <td>2012-01-01 03:00:00</td>\n",
              "      <td>-1.5</td>\n",
              "      <td>-3.2</td>\n",
              "      <td>88</td>\n",
              "      <td>6</td>\n",
              "      <td>4.0</td>\n",
              "      <td>101.27</td>\n",
              "      <td>Freezing Drizzle,Fog</td>\n",
              "    </tr>\n",
              "    <tr>\n",
              "      <th>4</th>\n",
              "      <td>2012-01-01 04:00:00</td>\n",
              "      <td>-1.5</td>\n",
              "      <td>-3.3</td>\n",
              "      <td>88</td>\n",
              "      <td>7</td>\n",
              "      <td>4.8</td>\n",
              "      <td>101.23</td>\n",
              "      <td>Fog</td>\n",
              "    </tr>\n",
              "    <tr>\n",
              "      <th>5</th>\n",
              "      <td>2012-01-01 05:00:00</td>\n",
              "      <td>-1.4</td>\n",
              "      <td>-3.3</td>\n",
              "      <td>87</td>\n",
              "      <td>9</td>\n",
              "      <td>6.4</td>\n",
              "      <td>101.27</td>\n",
              "      <td>Fog</td>\n",
              "    </tr>\n",
              "    <tr>\n",
              "      <th>6</th>\n",
              "      <td>2012-01-01 06:00:00</td>\n",
              "      <td>-1.5</td>\n",
              "      <td>-3.1</td>\n",
              "      <td>89</td>\n",
              "      <td>7</td>\n",
              "      <td>6.4</td>\n",
              "      <td>101.29</td>\n",
              "      <td>Fog</td>\n",
              "    </tr>\n",
              "    <tr>\n",
              "      <th>7</th>\n",
              "      <td>2012-01-01 07:00:00</td>\n",
              "      <td>-1.4</td>\n",
              "      <td>-3.6</td>\n",
              "      <td>85</td>\n",
              "      <td>7</td>\n",
              "      <td>8.0</td>\n",
              "      <td>101.26</td>\n",
              "      <td>Fog</td>\n",
              "    </tr>\n",
              "    <tr>\n",
              "      <th>8</th>\n",
              "      <td>2012-01-01 08:00:00</td>\n",
              "      <td>-1.4</td>\n",
              "      <td>-3.6</td>\n",
              "      <td>85</td>\n",
              "      <td>9</td>\n",
              "      <td>8.0</td>\n",
              "      <td>101.23</td>\n",
              "      <td>Fog</td>\n",
              "    </tr>\n",
              "    <tr>\n",
              "      <th>9</th>\n",
              "      <td>2012-01-01 09:00:00</td>\n",
              "      <td>-1.3</td>\n",
              "      <td>-3.1</td>\n",
              "      <td>88</td>\n",
              "      <td>15</td>\n",
              "      <td>4.0</td>\n",
              "      <td>101.20</td>\n",
              "      <td>Fog</td>\n",
              "    </tr>\n",
              "    <tr>\n",
              "      <th>10</th>\n",
              "      <td>2012-01-01 10:00:00</td>\n",
              "      <td>-1.0</td>\n",
              "      <td>-2.3</td>\n",
              "      <td>91</td>\n",
              "      <td>9</td>\n",
              "      <td>1.2</td>\n",
              "      <td>101.15</td>\n",
              "      <td>Fog</td>\n",
              "    </tr>\n",
              "    <tr>\n",
              "      <th>11</th>\n",
              "      <td>2012-01-01 11:00:00</td>\n",
              "      <td>-0.5</td>\n",
              "      <td>-2.1</td>\n",
              "      <td>89</td>\n",
              "      <td>7</td>\n",
              "      <td>4.0</td>\n",
              "      <td>100.98</td>\n",
              "      <td>Fog</td>\n",
              "    </tr>\n",
              "    <tr>\n",
              "      <th>12</th>\n",
              "      <td>2012-01-01 12:00:00</td>\n",
              "      <td>-0.2</td>\n",
              "      <td>-2.0</td>\n",
              "      <td>88</td>\n",
              "      <td>9</td>\n",
              "      <td>4.8</td>\n",
              "      <td>100.79</td>\n",
              "      <td>Fog</td>\n",
              "    </tr>\n",
              "    <tr>\n",
              "      <th>13</th>\n",
              "      <td>2012-01-01 13:00:00</td>\n",
              "      <td>0.2</td>\n",
              "      <td>-1.7</td>\n",
              "      <td>87</td>\n",
              "      <td>13</td>\n",
              "      <td>4.8</td>\n",
              "      <td>100.58</td>\n",
              "      <td>Fog</td>\n",
              "    </tr>\n",
              "    <tr>\n",
              "      <th>14</th>\n",
              "      <td>2012-01-01 14:00:00</td>\n",
              "      <td>0.8</td>\n",
              "      <td>-1.1</td>\n",
              "      <td>87</td>\n",
              "      <td>20</td>\n",
              "      <td>4.8</td>\n",
              "      <td>100.31</td>\n",
              "      <td>Fog</td>\n",
              "    </tr>\n",
              "    <tr>\n",
              "      <th>15</th>\n",
              "      <td>2012-01-01 15:00:00</td>\n",
              "      <td>1.8</td>\n",
              "      <td>-0.4</td>\n",
              "      <td>85</td>\n",
              "      <td>22</td>\n",
              "      <td>6.4</td>\n",
              "      <td>100.07</td>\n",
              "      <td>Fog</td>\n",
              "    </tr>\n",
              "    <tr>\n",
              "      <th>16</th>\n",
              "      <td>2012-01-01 16:00:00</td>\n",
              "      <td>2.6</td>\n",
              "      <td>-0.2</td>\n",
              "      <td>82</td>\n",
              "      <td>13</td>\n",
              "      <td>12.9</td>\n",
              "      <td>99.93</td>\n",
              "      <td>Mostly Cloudy</td>\n",
              "    </tr>\n",
              "    <tr>\n",
              "      <th>17</th>\n",
              "      <td>2012-01-01 17:00:00</td>\n",
              "      <td>3.0</td>\n",
              "      <td>0.0</td>\n",
              "      <td>81</td>\n",
              "      <td>13</td>\n",
              "      <td>16.1</td>\n",
              "      <td>99.81</td>\n",
              "      <td>Cloudy</td>\n",
              "    </tr>\n",
              "    <tr>\n",
              "      <th>18</th>\n",
              "      <td>2012-01-01 18:00:00</td>\n",
              "      <td>3.8</td>\n",
              "      <td>1.0</td>\n",
              "      <td>82</td>\n",
              "      <td>15</td>\n",
              "      <td>12.9</td>\n",
              "      <td>99.74</td>\n",
              "      <td>Rain</td>\n",
              "    </tr>\n",
              "    <tr>\n",
              "      <th>19</th>\n",
              "      <td>2012-01-01 19:00:00</td>\n",
              "      <td>3.1</td>\n",
              "      <td>1.3</td>\n",
              "      <td>88</td>\n",
              "      <td>15</td>\n",
              "      <td>12.9</td>\n",
              "      <td>99.68</td>\n",
              "      <td>Rain</td>\n",
              "    </tr>\n",
              "    <tr>\n",
              "      <th>20</th>\n",
              "      <td>2012-01-01 20:00:00</td>\n",
              "      <td>3.2</td>\n",
              "      <td>1.3</td>\n",
              "      <td>87</td>\n",
              "      <td>19</td>\n",
              "      <td>25.0</td>\n",
              "      <td>99.50</td>\n",
              "      <td>Cloudy</td>\n",
              "    </tr>\n",
              "    <tr>\n",
              "      <th>21</th>\n",
              "      <td>2012-01-01 21:00:00</td>\n",
              "      <td>4.0</td>\n",
              "      <td>1.7</td>\n",
              "      <td>85</td>\n",
              "      <td>20</td>\n",
              "      <td>25.0</td>\n",
              "      <td>99.39</td>\n",
              "      <td>Cloudy</td>\n",
              "    </tr>\n",
              "    <tr>\n",
              "      <th>22</th>\n",
              "      <td>2012-01-01 22:00:00</td>\n",
              "      <td>4.4</td>\n",
              "      <td>1.9</td>\n",
              "      <td>84</td>\n",
              "      <td>24</td>\n",
              "      <td>19.3</td>\n",
              "      <td>99.32</td>\n",
              "      <td>Rain Showers</td>\n",
              "    </tr>\n",
              "    <tr>\n",
              "      <th>23</th>\n",
              "      <td>2012-01-01 23:00:00</td>\n",
              "      <td>5.3</td>\n",
              "      <td>2.0</td>\n",
              "      <td>79</td>\n",
              "      <td>30</td>\n",
              "      <td>25.0</td>\n",
              "      <td>99.31</td>\n",
              "      <td>Cloudy</td>\n",
              "    </tr>\n",
              "    <tr>\n",
              "      <th>24</th>\n",
              "      <td>2012-01-02 00:00:00</td>\n",
              "      <td>5.2</td>\n",
              "      <td>1.5</td>\n",
              "      <td>77</td>\n",
              "      <td>35</td>\n",
              "      <td>25.0</td>\n",
              "      <td>99.26</td>\n",
              "      <td>Rain Showers</td>\n",
              "    </tr>\n",
              "  </tbody>\n",
              "</table>\n",
              "</div>"
            ],
            "text/plain": [
              "              Date/Time  Temp (C)  ...  Stn Press (kPa)               Weather\n",
              "0   2012-01-01 00:00:00      -1.8  ...           101.24                   Fog\n",
              "1   2012-01-01 01:00:00      -1.8  ...           101.24                   Fog\n",
              "2   2012-01-01 02:00:00      -1.8  ...           101.26  Freezing Drizzle,Fog\n",
              "3   2012-01-01 03:00:00      -1.5  ...           101.27  Freezing Drizzle,Fog\n",
              "4   2012-01-01 04:00:00      -1.5  ...           101.23                   Fog\n",
              "5   2012-01-01 05:00:00      -1.4  ...           101.27                   Fog\n",
              "6   2012-01-01 06:00:00      -1.5  ...           101.29                   Fog\n",
              "7   2012-01-01 07:00:00      -1.4  ...           101.26                   Fog\n",
              "8   2012-01-01 08:00:00      -1.4  ...           101.23                   Fog\n",
              "9   2012-01-01 09:00:00      -1.3  ...           101.20                   Fog\n",
              "10  2012-01-01 10:00:00      -1.0  ...           101.15                   Fog\n",
              "11  2012-01-01 11:00:00      -0.5  ...           100.98                   Fog\n",
              "12  2012-01-01 12:00:00      -0.2  ...           100.79                   Fog\n",
              "13  2012-01-01 13:00:00       0.2  ...           100.58                   Fog\n",
              "14  2012-01-01 14:00:00       0.8  ...           100.31                   Fog\n",
              "15  2012-01-01 15:00:00       1.8  ...           100.07                   Fog\n",
              "16  2012-01-01 16:00:00       2.6  ...            99.93         Mostly Cloudy\n",
              "17  2012-01-01 17:00:00       3.0  ...            99.81                Cloudy\n",
              "18  2012-01-01 18:00:00       3.8  ...            99.74                  Rain\n",
              "19  2012-01-01 19:00:00       3.1  ...            99.68                  Rain\n",
              "20  2012-01-01 20:00:00       3.2  ...            99.50                Cloudy\n",
              "21  2012-01-01 21:00:00       4.0  ...            99.39                Cloudy\n",
              "22  2012-01-01 22:00:00       4.4  ...            99.32          Rain Showers\n",
              "23  2012-01-01 23:00:00       5.3  ...            99.31                Cloudy\n",
              "24  2012-01-02 00:00:00       5.2  ...            99.26          Rain Showers\n",
              "\n",
              "[25 rows x 8 columns]"
            ]
          },
          "metadata": {
            "tags": []
          },
          "execution_count": 4
        }
      ]
    },
    {
      "cell_type": "code",
      "metadata": {
        "colab": {
          "base_uri": "https://localhost:8080/"
        },
        "id": "3NfXohXkrIn_",
        "outputId": "271ff78e-1c68-466e-9c92-79c3113dd852"
      },
      "source": [
        "#Let's first convert the Date/Time column data type from object to timestamp to get the respective months\n",
        "weather_df['Date/Time'] = pd.to_datetime(weather_df['Date/Time'])\n",
        "weather_df['Date/Time'].head(5)"
      ],
      "execution_count": 4,
      "outputs": [
        {
          "output_type": "execute_result",
          "data": {
            "text/plain": [
              "0   2012-01-01 00:00:00\n",
              "1   2012-01-01 01:00:00\n",
              "2   2012-01-01 02:00:00\n",
              "3   2012-01-01 03:00:00\n",
              "4   2012-01-01 04:00:00\n",
              "Name: Date/Time, dtype: datetime64[ns]"
            ]
          },
          "metadata": {},
          "execution_count": 4
        }
      ]
    },
    {
      "cell_type": "markdown",
      "metadata": {
        "id": "sTW6iA71sGhj"
      },
      "source": [
        "##**Analyzing the DataFrame**"
      ]
    },
    {
      "cell_type": "code",
      "metadata": {
        "colab": {
          "base_uri": "https://localhost:8080/"
        },
        "id": "dabASzpFrqG_",
        "outputId": "ad1d50b0-f167-408d-d434-79d0cb90fdc7"
      },
      "source": [
        "weather_df.info()"
      ],
      "execution_count": 9,
      "outputs": [
        {
          "output_type": "stream",
          "text": [
            "<class 'pandas.core.frame.DataFrame'>\n",
            "RangeIndex: 8784 entries, 0 to 8783\n",
            "Data columns (total 8 columns):\n",
            " #   Column              Non-Null Count  Dtype         \n",
            "---  ------              --------------  -----         \n",
            " 0   Date/Time           8784 non-null   datetime64[ns]\n",
            " 1   Temp (C)            8784 non-null   float64       \n",
            " 2   Dew Point Temp (C)  8784 non-null   float64       \n",
            " 3   Rel Hum (%)         8784 non-null   int64         \n",
            " 4   Wind Spd (km/h)     8784 non-null   int64         \n",
            " 5   Visibility (km)     8784 non-null   float64       \n",
            " 6   Stn Press (kPa)     8784 non-null   float64       \n",
            " 7   Weather             8784 non-null   object        \n",
            "dtypes: datetime64[ns](1), float64(4), int64(2), object(1)\n",
            "memory usage: 549.1+ KB\n"
          ],
          "name": "stdout"
        }
      ]
    },
    {
      "cell_type": "markdown",
      "metadata": {
        "id": "1cZikzpAsmXo"
      },
      "source": [
        "This checks the data type of each column in the dataframe"
      ]
    },
    {
      "cell_type": "code",
      "metadata": {
        "colab": {
          "base_uri": "https://localhost:8080/"
        },
        "id": "QUPf8L3SsZtS",
        "outputId": "839e285a-ad40-40a1-ed25-32860cb62fe3"
      },
      "source": [
        "weather_df.index"
      ],
      "execution_count": 11,
      "outputs": [
        {
          "output_type": "execute_result",
          "data": {
            "text/plain": [
              "RangeIndex(start=0, stop=8784, step=1)"
            ]
          },
          "metadata": {
            "tags": []
          },
          "execution_count": 11
        }
      ]
    },
    {
      "cell_type": "code",
      "metadata": {
        "colab": {
          "base_uri": "https://localhost:8080/"
        },
        "id": "qR3uExAvs0BW",
        "outputId": "72747c3e-220b-48eb-97e9-0167d0817e37"
      },
      "source": [
        "weather_df['Weather'].unique() # Checks the unique values from the weather column"
      ],
      "execution_count": 14,
      "outputs": [
        {
          "output_type": "execute_result",
          "data": {
            "text/plain": [
              "array(['Fog', 'Freezing Drizzle,Fog', 'Mostly Cloudy', 'Cloudy', 'Rain',\n",
              "       'Rain Showers', 'Mainly Clear', 'Snow Showers', 'Snow', 'Clear',\n",
              "       'Freezing Rain,Fog', 'Freezing Rain', 'Freezing Drizzle',\n",
              "       'Rain,Snow', 'Moderate Snow', 'Freezing Drizzle,Snow',\n",
              "       'Freezing Rain,Snow Grains', 'Snow,Blowing Snow', 'Freezing Fog',\n",
              "       'Haze', 'Rain,Fog', 'Drizzle,Fog', 'Drizzle',\n",
              "       'Freezing Drizzle,Haze', 'Freezing Rain,Haze', 'Snow,Haze',\n",
              "       'Snow,Fog', 'Snow,Ice Pellets', 'Rain,Haze', 'Thunderstorms,Rain',\n",
              "       'Thunderstorms,Rain Showers', 'Thunderstorms,Heavy Rain Showers',\n",
              "       'Thunderstorms,Rain Showers,Fog', 'Thunderstorms',\n",
              "       'Thunderstorms,Rain,Fog',\n",
              "       'Thunderstorms,Moderate Rain Showers,Fog', 'Rain Showers,Fog',\n",
              "       'Rain Showers,Snow Showers', 'Snow Pellets', 'Rain,Snow,Fog',\n",
              "       'Moderate Rain,Fog', 'Freezing Rain,Ice Pellets,Fog',\n",
              "       'Drizzle,Ice Pellets,Fog', 'Drizzle,Snow', 'Rain,Ice Pellets',\n",
              "       'Drizzle,Snow,Fog', 'Rain,Snow Grains', 'Rain,Snow,Ice Pellets',\n",
              "       'Snow Showers,Fog', 'Moderate Snow,Blowing Snow'], dtype=object)"
            ]
          },
          "metadata": {
            "tags": []
          },
          "execution_count": 14
        }
      ]
    },
    {
      "cell_type": "code",
      "metadata": {
        "colab": {
          "base_uri": "https://localhost:8080/"
        },
        "id": "Rv_8CEwqs-3T",
        "outputId": "0c0c7cf5-bd0a-4a93-82b6-09f23c1dd866"
      },
      "source": [
        "weather_df['Weather'].nunique() # Returns the number of non-unique values in a column."
      ],
      "execution_count": 17,
      "outputs": [
        {
          "output_type": "execute_result",
          "data": {
            "text/plain": [
              "50"
            ]
          },
          "metadata": {
            "tags": []
          },
          "execution_count": 17
        }
      ]
    },
    {
      "cell_type": "code",
      "metadata": {
        "colab": {
          "base_uri": "https://localhost:8080/"
        },
        "id": "PxaDTGS6tY04",
        "outputId": "5faa0500-fe37-48df-ea4a-f5b1e8381db2"
      },
      "source": [
        "weather_df['Weather'].value_counts() # Counts the number of unique items in a column."
      ],
      "execution_count": 19,
      "outputs": [
        {
          "output_type": "execute_result",
          "data": {
            "text/plain": [
              "Mainly Clear                               2106\n",
              "Mostly Cloudy                              2069\n",
              "Cloudy                                     1728\n",
              "Clear                                      1326\n",
              "Snow                                        390\n",
              "Rain                                        306\n",
              "Rain Showers                                188\n",
              "Fog                                         150\n",
              "Rain,Fog                                    116\n",
              "Drizzle,Fog                                  80\n",
              "Snow Showers                                 60\n",
              "Drizzle                                      41\n",
              "Snow,Fog                                     37\n",
              "Snow,Blowing Snow                            19\n",
              "Rain,Snow                                    18\n",
              "Thunderstorms,Rain Showers                   16\n",
              "Haze                                         16\n",
              "Drizzle,Snow,Fog                             15\n",
              "Freezing Rain                                14\n",
              "Freezing Drizzle,Snow                        11\n",
              "Freezing Drizzle                              7\n",
              "Freezing Drizzle,Fog                          6\n",
              "Snow,Ice Pellets                              6\n",
              "Snow,Haze                                     5\n",
              "Snow Showers,Fog                              4\n",
              "Moderate Snow                                 4\n",
              "Rain,Snow,Ice Pellets                         4\n",
              "Freezing Rain,Fog                             4\n",
              "Freezing Fog                                  4\n",
              "Freezing Drizzle,Haze                         3\n",
              "Rain,Haze                                     3\n",
              "Thunderstorms,Rain Showers,Fog                3\n",
              "Thunderstorms,Rain                            3\n",
              "Drizzle,Snow                                  2\n",
              "Thunderstorms                                 2\n",
              "Rain Showers,Snow Showers                     2\n",
              "Freezing Rain,Haze                            2\n",
              "Moderate Snow,Blowing Snow                    2\n",
              "Moderate Rain,Fog                             1\n",
              "Snow Pellets                                  1\n",
              "Rain,Snow,Fog                                 1\n",
              "Freezing Rain,Snow Grains                     1\n",
              "Rain,Ice Pellets                              1\n",
              "Thunderstorms,Rain,Fog                        1\n",
              "Freezing Rain,Ice Pellets,Fog                 1\n",
              "Thunderstorms,Moderate Rain Showers,Fog       1\n",
              "Drizzle,Ice Pellets,Fog                       1\n",
              "Rain,Snow Grains                              1\n",
              "Rain Showers,Fog                              1\n",
              "Thunderstorms,Heavy Rain Showers              1\n",
              "Name: Weather, dtype: int64"
            ]
          },
          "metadata": {
            "tags": []
          },
          "execution_count": 19
        }
      ]
    },
    {
      "cell_type": "markdown",
      "metadata": {
        "id": "4RzWLpdluPkL"
      },
      "source": [
        "##**Data Manipulation**"
      ]
    },
    {
      "cell_type": "code",
      "metadata": {
        "colab": {
          "base_uri": "https://localhost:8080/"
        },
        "id": "uDy3m0dVt1MI",
        "outputId": "b3204910-258c-427c-e654-a9aa2df99555"
      },
      "source": [
        "weather_col = weather_df['Weather']\n",
        "\n",
        "print(type(weather_col))\n",
        "weather_col.head()"
      ],
      "execution_count": 24,
      "outputs": [
        {
          "output_type": "stream",
          "text": [
            "<class 'pandas.core.series.Series'>\n"
          ],
          "name": "stdout"
        },
        {
          "output_type": "execute_result",
          "data": {
            "text/plain": [
              "0                     Fog\n",
              "1                     Fog\n",
              "2    Freezing Drizzle,Fog\n",
              "3    Freezing Drizzle,Fog\n",
              "4                     Fog\n",
              "Name: Weather, dtype: object"
            ]
          },
          "metadata": {
            "tags": []
          },
          "execution_count": 24
        }
      ]
    },
    {
      "cell_type": "markdown",
      "metadata": {
        "id": "nSoL_yBsu_tD"
      },
      "source": [
        "When we extract a column from the dataframe, it returns a Pandas Series object ie. a one-dimensional object as output."
      ]
    },
    {
      "cell_type": "code",
      "metadata": {
        "colab": {
          "base_uri": "https://localhost:8080/",
          "height": 221
        },
        "id": "5rFgTwX7vUXx",
        "outputId": "29d106c9-aa91-4372-d998-bc6399da3827"
      },
      "source": [
        "weather_temp_cols = weather_df[['Weather', 'Temp (C)']]\n",
        "\n",
        "print(type(weather_temp_cols))\n",
        "weather_temp_cols.head()"
      ],
      "execution_count": 26,
      "outputs": [
        {
          "output_type": "stream",
          "text": [
            "<class 'pandas.core.frame.DataFrame'>\n"
          ],
          "name": "stdout"
        },
        {
          "output_type": "execute_result",
          "data": {
            "text/html": [
              "<div>\n",
              "<style scoped>\n",
              "    .dataframe tbody tr th:only-of-type {\n",
              "        vertical-align: middle;\n",
              "    }\n",
              "\n",
              "    .dataframe tbody tr th {\n",
              "        vertical-align: top;\n",
              "    }\n",
              "\n",
              "    .dataframe thead th {\n",
              "        text-align: right;\n",
              "    }\n",
              "</style>\n",
              "<table border=\"1\" class=\"dataframe\">\n",
              "  <thead>\n",
              "    <tr style=\"text-align: right;\">\n",
              "      <th></th>\n",
              "      <th>Weather</th>\n",
              "      <th>Temp (C)</th>\n",
              "    </tr>\n",
              "  </thead>\n",
              "  <tbody>\n",
              "    <tr>\n",
              "      <th>0</th>\n",
              "      <td>Fog</td>\n",
              "      <td>-1.8</td>\n",
              "    </tr>\n",
              "    <tr>\n",
              "      <th>1</th>\n",
              "      <td>Fog</td>\n",
              "      <td>-1.8</td>\n",
              "    </tr>\n",
              "    <tr>\n",
              "      <th>2</th>\n",
              "      <td>Freezing Drizzle,Fog</td>\n",
              "      <td>-1.8</td>\n",
              "    </tr>\n",
              "    <tr>\n",
              "      <th>3</th>\n",
              "      <td>Freezing Drizzle,Fog</td>\n",
              "      <td>-1.5</td>\n",
              "    </tr>\n",
              "    <tr>\n",
              "      <th>4</th>\n",
              "      <td>Fog</td>\n",
              "      <td>-1.5</td>\n",
              "    </tr>\n",
              "  </tbody>\n",
              "</table>\n",
              "</div>"
            ],
            "text/plain": [
              "                Weather  Temp (C)\n",
              "0                   Fog      -1.8\n",
              "1                   Fog      -1.8\n",
              "2  Freezing Drizzle,Fog      -1.8\n",
              "3  Freezing Drizzle,Fog      -1.5\n",
              "4                   Fog      -1.5"
            ]
          },
          "metadata": {
            "tags": []
          },
          "execution_count": 26
        }
      ]
    },
    {
      "cell_type": "markdown",
      "metadata": {
        "id": "oVf63ixFv-ch"
      },
      "source": [
        "When we extract a column from the dataframe, it returns a Pandas DataFrame object ie. a two-dimensional object as output."
      ]
    },
    {
      "cell_type": "code",
      "metadata": {
        "colab": {
          "base_uri": "https://localhost:8080/",
          "height": 824
        },
        "id": "XAYjatr5v0NV",
        "outputId": "755a3b86-c6dd-4486-e7cf-339034e2cc43"
      },
      "source": [
        "weather_df[:25] # Returns the first 25 columns"
      ],
      "execution_count": 28,
      "outputs": [
        {
          "output_type": "execute_result",
          "data": {
            "text/html": [
              "<div>\n",
              "<style scoped>\n",
              "    .dataframe tbody tr th:only-of-type {\n",
              "        vertical-align: middle;\n",
              "    }\n",
              "\n",
              "    .dataframe tbody tr th {\n",
              "        vertical-align: top;\n",
              "    }\n",
              "\n",
              "    .dataframe thead th {\n",
              "        text-align: right;\n",
              "    }\n",
              "</style>\n",
              "<table border=\"1\" class=\"dataframe\">\n",
              "  <thead>\n",
              "    <tr style=\"text-align: right;\">\n",
              "      <th></th>\n",
              "      <th>Date/Time</th>\n",
              "      <th>Temp (C)</th>\n",
              "      <th>Dew Point Temp (C)</th>\n",
              "      <th>Rel Hum (%)</th>\n",
              "      <th>Wind Spd (km/h)</th>\n",
              "      <th>Visibility (km)</th>\n",
              "      <th>Stn Press (kPa)</th>\n",
              "      <th>Weather</th>\n",
              "    </tr>\n",
              "  </thead>\n",
              "  <tbody>\n",
              "    <tr>\n",
              "      <th>0</th>\n",
              "      <td>2012-01-01 00:00:00</td>\n",
              "      <td>-1.8</td>\n",
              "      <td>-3.9</td>\n",
              "      <td>86</td>\n",
              "      <td>4</td>\n",
              "      <td>8.0</td>\n",
              "      <td>101.24</td>\n",
              "      <td>Fog</td>\n",
              "    </tr>\n",
              "    <tr>\n",
              "      <th>1</th>\n",
              "      <td>2012-01-01 01:00:00</td>\n",
              "      <td>-1.8</td>\n",
              "      <td>-3.7</td>\n",
              "      <td>87</td>\n",
              "      <td>4</td>\n",
              "      <td>8.0</td>\n",
              "      <td>101.24</td>\n",
              "      <td>Fog</td>\n",
              "    </tr>\n",
              "    <tr>\n",
              "      <th>2</th>\n",
              "      <td>2012-01-01 02:00:00</td>\n",
              "      <td>-1.8</td>\n",
              "      <td>-3.4</td>\n",
              "      <td>89</td>\n",
              "      <td>7</td>\n",
              "      <td>4.0</td>\n",
              "      <td>101.26</td>\n",
              "      <td>Freezing Drizzle,Fog</td>\n",
              "    </tr>\n",
              "    <tr>\n",
              "      <th>3</th>\n",
              "      <td>2012-01-01 03:00:00</td>\n",
              "      <td>-1.5</td>\n",
              "      <td>-3.2</td>\n",
              "      <td>88</td>\n",
              "      <td>6</td>\n",
              "      <td>4.0</td>\n",
              "      <td>101.27</td>\n",
              "      <td>Freezing Drizzle,Fog</td>\n",
              "    </tr>\n",
              "    <tr>\n",
              "      <th>4</th>\n",
              "      <td>2012-01-01 04:00:00</td>\n",
              "      <td>-1.5</td>\n",
              "      <td>-3.3</td>\n",
              "      <td>88</td>\n",
              "      <td>7</td>\n",
              "      <td>4.8</td>\n",
              "      <td>101.23</td>\n",
              "      <td>Fog</td>\n",
              "    </tr>\n",
              "    <tr>\n",
              "      <th>5</th>\n",
              "      <td>2012-01-01 05:00:00</td>\n",
              "      <td>-1.4</td>\n",
              "      <td>-3.3</td>\n",
              "      <td>87</td>\n",
              "      <td>9</td>\n",
              "      <td>6.4</td>\n",
              "      <td>101.27</td>\n",
              "      <td>Fog</td>\n",
              "    </tr>\n",
              "    <tr>\n",
              "      <th>6</th>\n",
              "      <td>2012-01-01 06:00:00</td>\n",
              "      <td>-1.5</td>\n",
              "      <td>-3.1</td>\n",
              "      <td>89</td>\n",
              "      <td>7</td>\n",
              "      <td>6.4</td>\n",
              "      <td>101.29</td>\n",
              "      <td>Fog</td>\n",
              "    </tr>\n",
              "    <tr>\n",
              "      <th>7</th>\n",
              "      <td>2012-01-01 07:00:00</td>\n",
              "      <td>-1.4</td>\n",
              "      <td>-3.6</td>\n",
              "      <td>85</td>\n",
              "      <td>7</td>\n",
              "      <td>8.0</td>\n",
              "      <td>101.26</td>\n",
              "      <td>Fog</td>\n",
              "    </tr>\n",
              "    <tr>\n",
              "      <th>8</th>\n",
              "      <td>2012-01-01 08:00:00</td>\n",
              "      <td>-1.4</td>\n",
              "      <td>-3.6</td>\n",
              "      <td>85</td>\n",
              "      <td>9</td>\n",
              "      <td>8.0</td>\n",
              "      <td>101.23</td>\n",
              "      <td>Fog</td>\n",
              "    </tr>\n",
              "    <tr>\n",
              "      <th>9</th>\n",
              "      <td>2012-01-01 09:00:00</td>\n",
              "      <td>-1.3</td>\n",
              "      <td>-3.1</td>\n",
              "      <td>88</td>\n",
              "      <td>15</td>\n",
              "      <td>4.0</td>\n",
              "      <td>101.20</td>\n",
              "      <td>Fog</td>\n",
              "    </tr>\n",
              "    <tr>\n",
              "      <th>10</th>\n",
              "      <td>2012-01-01 10:00:00</td>\n",
              "      <td>-1.0</td>\n",
              "      <td>-2.3</td>\n",
              "      <td>91</td>\n",
              "      <td>9</td>\n",
              "      <td>1.2</td>\n",
              "      <td>101.15</td>\n",
              "      <td>Fog</td>\n",
              "    </tr>\n",
              "    <tr>\n",
              "      <th>11</th>\n",
              "      <td>2012-01-01 11:00:00</td>\n",
              "      <td>-0.5</td>\n",
              "      <td>-2.1</td>\n",
              "      <td>89</td>\n",
              "      <td>7</td>\n",
              "      <td>4.0</td>\n",
              "      <td>100.98</td>\n",
              "      <td>Fog</td>\n",
              "    </tr>\n",
              "    <tr>\n",
              "      <th>12</th>\n",
              "      <td>2012-01-01 12:00:00</td>\n",
              "      <td>-0.2</td>\n",
              "      <td>-2.0</td>\n",
              "      <td>88</td>\n",
              "      <td>9</td>\n",
              "      <td>4.8</td>\n",
              "      <td>100.79</td>\n",
              "      <td>Fog</td>\n",
              "    </tr>\n",
              "    <tr>\n",
              "      <th>13</th>\n",
              "      <td>2012-01-01 13:00:00</td>\n",
              "      <td>0.2</td>\n",
              "      <td>-1.7</td>\n",
              "      <td>87</td>\n",
              "      <td>13</td>\n",
              "      <td>4.8</td>\n",
              "      <td>100.58</td>\n",
              "      <td>Fog</td>\n",
              "    </tr>\n",
              "    <tr>\n",
              "      <th>14</th>\n",
              "      <td>2012-01-01 14:00:00</td>\n",
              "      <td>0.8</td>\n",
              "      <td>-1.1</td>\n",
              "      <td>87</td>\n",
              "      <td>20</td>\n",
              "      <td>4.8</td>\n",
              "      <td>100.31</td>\n",
              "      <td>Fog</td>\n",
              "    </tr>\n",
              "    <tr>\n",
              "      <th>15</th>\n",
              "      <td>2012-01-01 15:00:00</td>\n",
              "      <td>1.8</td>\n",
              "      <td>-0.4</td>\n",
              "      <td>85</td>\n",
              "      <td>22</td>\n",
              "      <td>6.4</td>\n",
              "      <td>100.07</td>\n",
              "      <td>Fog</td>\n",
              "    </tr>\n",
              "    <tr>\n",
              "      <th>16</th>\n",
              "      <td>2012-01-01 16:00:00</td>\n",
              "      <td>2.6</td>\n",
              "      <td>-0.2</td>\n",
              "      <td>82</td>\n",
              "      <td>13</td>\n",
              "      <td>12.9</td>\n",
              "      <td>99.93</td>\n",
              "      <td>Mostly Cloudy</td>\n",
              "    </tr>\n",
              "    <tr>\n",
              "      <th>17</th>\n",
              "      <td>2012-01-01 17:00:00</td>\n",
              "      <td>3.0</td>\n",
              "      <td>0.0</td>\n",
              "      <td>81</td>\n",
              "      <td>13</td>\n",
              "      <td>16.1</td>\n",
              "      <td>99.81</td>\n",
              "      <td>Cloudy</td>\n",
              "    </tr>\n",
              "    <tr>\n",
              "      <th>18</th>\n",
              "      <td>2012-01-01 18:00:00</td>\n",
              "      <td>3.8</td>\n",
              "      <td>1.0</td>\n",
              "      <td>82</td>\n",
              "      <td>15</td>\n",
              "      <td>12.9</td>\n",
              "      <td>99.74</td>\n",
              "      <td>Rain</td>\n",
              "    </tr>\n",
              "    <tr>\n",
              "      <th>19</th>\n",
              "      <td>2012-01-01 19:00:00</td>\n",
              "      <td>3.1</td>\n",
              "      <td>1.3</td>\n",
              "      <td>88</td>\n",
              "      <td>15</td>\n",
              "      <td>12.9</td>\n",
              "      <td>99.68</td>\n",
              "      <td>Rain</td>\n",
              "    </tr>\n",
              "    <tr>\n",
              "      <th>20</th>\n",
              "      <td>2012-01-01 20:00:00</td>\n",
              "      <td>3.2</td>\n",
              "      <td>1.3</td>\n",
              "      <td>87</td>\n",
              "      <td>19</td>\n",
              "      <td>25.0</td>\n",
              "      <td>99.50</td>\n",
              "      <td>Cloudy</td>\n",
              "    </tr>\n",
              "    <tr>\n",
              "      <th>21</th>\n",
              "      <td>2012-01-01 21:00:00</td>\n",
              "      <td>4.0</td>\n",
              "      <td>1.7</td>\n",
              "      <td>85</td>\n",
              "      <td>20</td>\n",
              "      <td>25.0</td>\n",
              "      <td>99.39</td>\n",
              "      <td>Cloudy</td>\n",
              "    </tr>\n",
              "    <tr>\n",
              "      <th>22</th>\n",
              "      <td>2012-01-01 22:00:00</td>\n",
              "      <td>4.4</td>\n",
              "      <td>1.9</td>\n",
              "      <td>84</td>\n",
              "      <td>24</td>\n",
              "      <td>19.3</td>\n",
              "      <td>99.32</td>\n",
              "      <td>Rain Showers</td>\n",
              "    </tr>\n",
              "    <tr>\n",
              "      <th>23</th>\n",
              "      <td>2012-01-01 23:00:00</td>\n",
              "      <td>5.3</td>\n",
              "      <td>2.0</td>\n",
              "      <td>79</td>\n",
              "      <td>30</td>\n",
              "      <td>25.0</td>\n",
              "      <td>99.31</td>\n",
              "      <td>Cloudy</td>\n",
              "    </tr>\n",
              "    <tr>\n",
              "      <th>24</th>\n",
              "      <td>2012-01-02 00:00:00</td>\n",
              "      <td>5.2</td>\n",
              "      <td>1.5</td>\n",
              "      <td>77</td>\n",
              "      <td>35</td>\n",
              "      <td>25.0</td>\n",
              "      <td>99.26</td>\n",
              "      <td>Rain Showers</td>\n",
              "    </tr>\n",
              "  </tbody>\n",
              "</table>\n",
              "</div>"
            ],
            "text/plain": [
              "             Date/Time  Temp (C)  ...  Stn Press (kPa)               Weather\n",
              "0  2012-01-01 00:00:00      -1.8  ...           101.24                   Fog\n",
              "1  2012-01-01 01:00:00      -1.8  ...           101.24                   Fog\n",
              "2  2012-01-01 02:00:00      -1.8  ...           101.26  Freezing Drizzle,Fog\n",
              "3  2012-01-01 03:00:00      -1.5  ...           101.27  Freezing Drizzle,Fog\n",
              "4  2012-01-01 04:00:00      -1.5  ...           101.23                   Fog\n",
              "5  2012-01-01 05:00:00      -1.4  ...           101.27                   Fog\n",
              "6  2012-01-01 06:00:00      -1.5  ...           101.29                   Fog\n",
              "7  2012-01-01 07:00:00      -1.4  ...           101.26                   Fog\n",
              "8  2012-01-01 08:00:00      -1.4  ...           101.23                   Fog\n",
              "9  2012-01-01 09:00:00      -1.3  ...           101.20                   Fog\n",
              "10 2012-01-01 10:00:00      -1.0  ...           101.15                   Fog\n",
              "11 2012-01-01 11:00:00      -0.5  ...           100.98                   Fog\n",
              "12 2012-01-01 12:00:00      -0.2  ...           100.79                   Fog\n",
              "13 2012-01-01 13:00:00       0.2  ...           100.58                   Fog\n",
              "14 2012-01-01 14:00:00       0.8  ...           100.31                   Fog\n",
              "15 2012-01-01 15:00:00       1.8  ...           100.07                   Fog\n",
              "16 2012-01-01 16:00:00       2.6  ...            99.93         Mostly Cloudy\n",
              "17 2012-01-01 17:00:00       3.0  ...            99.81                Cloudy\n",
              "18 2012-01-01 18:00:00       3.8  ...            99.74                  Rain\n",
              "19 2012-01-01 19:00:00       3.1  ...            99.68                  Rain\n",
              "20 2012-01-01 20:00:00       3.2  ...            99.50                Cloudy\n",
              "21 2012-01-01 21:00:00       4.0  ...            99.39                Cloudy\n",
              "22 2012-01-01 22:00:00       4.4  ...            99.32          Rain Showers\n",
              "23 2012-01-01 23:00:00       5.3  ...            99.31                Cloudy\n",
              "24 2012-01-02 00:00:00       5.2  ...            99.26          Rain Showers\n",
              "\n",
              "[25 rows x 8 columns]"
            ]
          },
          "metadata": {
            "tags": []
          },
          "execution_count": 28
        }
      ]
    },
    {
      "cell_type": "code",
      "metadata": {
        "colab": {
          "base_uri": "https://localhost:8080/",
          "height": 142
        },
        "id": "5dDgXGOqwba9",
        "outputId": "a1d3e50c-7ffc-4d95-a328-1f270ed307ec"
      },
      "source": [
        "weather_df[['Visibility (km)', 'Rel Hum (%)']].iloc[:5:2] # Returns the first three alternating rows from the Visibility and Humidity columns"
      ],
      "execution_count": 32,
      "outputs": [
        {
          "output_type": "execute_result",
          "data": {
            "text/html": [
              "<div>\n",
              "<style scoped>\n",
              "    .dataframe tbody tr th:only-of-type {\n",
              "        vertical-align: middle;\n",
              "    }\n",
              "\n",
              "    .dataframe tbody tr th {\n",
              "        vertical-align: top;\n",
              "    }\n",
              "\n",
              "    .dataframe thead th {\n",
              "        text-align: right;\n",
              "    }\n",
              "</style>\n",
              "<table border=\"1\" class=\"dataframe\">\n",
              "  <thead>\n",
              "    <tr style=\"text-align: right;\">\n",
              "      <th></th>\n",
              "      <th>Visibility (km)</th>\n",
              "      <th>Rel Hum (%)</th>\n",
              "    </tr>\n",
              "  </thead>\n",
              "  <tbody>\n",
              "    <tr>\n",
              "      <th>0</th>\n",
              "      <td>8.0</td>\n",
              "      <td>86</td>\n",
              "    </tr>\n",
              "    <tr>\n",
              "      <th>2</th>\n",
              "      <td>4.0</td>\n",
              "      <td>89</td>\n",
              "    </tr>\n",
              "    <tr>\n",
              "      <th>4</th>\n",
              "      <td>4.8</td>\n",
              "      <td>88</td>\n",
              "    </tr>\n",
              "  </tbody>\n",
              "</table>\n",
              "</div>"
            ],
            "text/plain": [
              "   Visibility (km)  Rel Hum (%)\n",
              "0              8.0           86\n",
              "2              4.0           89\n",
              "4              4.8           88"
            ]
          },
          "metadata": {
            "tags": []
          },
          "execution_count": 32
        }
      ]
    },
    {
      "cell_type": "markdown",
      "metadata": {
        "id": "s9s8YZ6fxd4U"
      },
      "source": [
        "##**Filtering**"
      ]
    },
    {
      "cell_type": "markdown",
      "metadata": {
        "id": "oKlZDTsbxqd6"
      },
      "source": [
        "Filter out the days that never snowed"
      ]
    },
    {
      "cell_type": "code",
      "metadata": {
        "colab": {
          "base_uri": "https://localhost:8080/",
          "height": 419
        },
        "id": "UCiqeod7xyjx",
        "outputId": "4cdc6bb1-2d17-47ab-b381-cb1713faf2a6"
      },
      "source": [
        "snowed_df = weather_df['Weather'].str.lower().str.contains('snow')\n",
        "weather_df[snowed_df]"
      ],
      "execution_count": 33,
      "outputs": [
        {
          "output_type": "execute_result",
          "data": {
            "text/html": [
              "<div>\n",
              "<style scoped>\n",
              "    .dataframe tbody tr th:only-of-type {\n",
              "        vertical-align: middle;\n",
              "    }\n",
              "\n",
              "    .dataframe tbody tr th {\n",
              "        vertical-align: top;\n",
              "    }\n",
              "\n",
              "    .dataframe thead th {\n",
              "        text-align: right;\n",
              "    }\n",
              "</style>\n",
              "<table border=\"1\" class=\"dataframe\">\n",
              "  <thead>\n",
              "    <tr style=\"text-align: right;\">\n",
              "      <th></th>\n",
              "      <th>Date/Time</th>\n",
              "      <th>Temp (C)</th>\n",
              "      <th>Dew Point Temp (C)</th>\n",
              "      <th>Rel Hum (%)</th>\n",
              "      <th>Wind Spd (km/h)</th>\n",
              "      <th>Visibility (km)</th>\n",
              "      <th>Stn Press (kPa)</th>\n",
              "      <th>Weather</th>\n",
              "    </tr>\n",
              "  </thead>\n",
              "  <tbody>\n",
              "    <tr>\n",
              "      <th>41</th>\n",
              "      <td>2012-01-02 17:00:00</td>\n",
              "      <td>-2.1</td>\n",
              "      <td>-9.5</td>\n",
              "      <td>57</td>\n",
              "      <td>22</td>\n",
              "      <td>25.0</td>\n",
              "      <td>99.66</td>\n",
              "      <td>Snow Showers</td>\n",
              "    </tr>\n",
              "    <tr>\n",
              "      <th>44</th>\n",
              "      <td>2012-01-02 20:00:00</td>\n",
              "      <td>-5.6</td>\n",
              "      <td>-13.4</td>\n",
              "      <td>54</td>\n",
              "      <td>24</td>\n",
              "      <td>25.0</td>\n",
              "      <td>100.07</td>\n",
              "      <td>Snow Showers</td>\n",
              "    </tr>\n",
              "    <tr>\n",
              "      <th>45</th>\n",
              "      <td>2012-01-02 21:00:00</td>\n",
              "      <td>-5.8</td>\n",
              "      <td>-12.8</td>\n",
              "      <td>58</td>\n",
              "      <td>26</td>\n",
              "      <td>25.0</td>\n",
              "      <td>100.15</td>\n",
              "      <td>Snow Showers</td>\n",
              "    </tr>\n",
              "    <tr>\n",
              "      <th>47</th>\n",
              "      <td>2012-01-02 23:00:00</td>\n",
              "      <td>-7.4</td>\n",
              "      <td>-14.1</td>\n",
              "      <td>59</td>\n",
              "      <td>17</td>\n",
              "      <td>19.3</td>\n",
              "      <td>100.27</td>\n",
              "      <td>Snow Showers</td>\n",
              "    </tr>\n",
              "    <tr>\n",
              "      <th>48</th>\n",
              "      <td>2012-01-03 00:00:00</td>\n",
              "      <td>-9.0</td>\n",
              "      <td>-16.0</td>\n",
              "      <td>57</td>\n",
              "      <td>28</td>\n",
              "      <td>25.0</td>\n",
              "      <td>100.35</td>\n",
              "      <td>Snow Showers</td>\n",
              "    </tr>\n",
              "    <tr>\n",
              "      <th>...</th>\n",
              "      <td>...</td>\n",
              "      <td>...</td>\n",
              "      <td>...</td>\n",
              "      <td>...</td>\n",
              "      <td>...</td>\n",
              "      <td>...</td>\n",
              "      <td>...</td>\n",
              "      <td>...</td>\n",
              "    </tr>\n",
              "    <tr>\n",
              "      <th>8779</th>\n",
              "      <td>2012-12-31 19:00:00</td>\n",
              "      <td>0.1</td>\n",
              "      <td>-2.7</td>\n",
              "      <td>81</td>\n",
              "      <td>30</td>\n",
              "      <td>9.7</td>\n",
              "      <td>100.13</td>\n",
              "      <td>Snow</td>\n",
              "    </tr>\n",
              "    <tr>\n",
              "      <th>8780</th>\n",
              "      <td>2012-12-31 20:00:00</td>\n",
              "      <td>0.2</td>\n",
              "      <td>-2.4</td>\n",
              "      <td>83</td>\n",
              "      <td>24</td>\n",
              "      <td>9.7</td>\n",
              "      <td>100.03</td>\n",
              "      <td>Snow</td>\n",
              "    </tr>\n",
              "    <tr>\n",
              "      <th>8781</th>\n",
              "      <td>2012-12-31 21:00:00</td>\n",
              "      <td>-0.5</td>\n",
              "      <td>-1.5</td>\n",
              "      <td>93</td>\n",
              "      <td>28</td>\n",
              "      <td>4.8</td>\n",
              "      <td>99.95</td>\n",
              "      <td>Snow</td>\n",
              "    </tr>\n",
              "    <tr>\n",
              "      <th>8782</th>\n",
              "      <td>2012-12-31 22:00:00</td>\n",
              "      <td>-0.2</td>\n",
              "      <td>-1.8</td>\n",
              "      <td>89</td>\n",
              "      <td>28</td>\n",
              "      <td>9.7</td>\n",
              "      <td>99.91</td>\n",
              "      <td>Snow</td>\n",
              "    </tr>\n",
              "    <tr>\n",
              "      <th>8783</th>\n",
              "      <td>2012-12-31 23:00:00</td>\n",
              "      <td>0.0</td>\n",
              "      <td>-2.1</td>\n",
              "      <td>86</td>\n",
              "      <td>30</td>\n",
              "      <td>11.3</td>\n",
              "      <td>99.89</td>\n",
              "      <td>Snow</td>\n",
              "    </tr>\n",
              "  </tbody>\n",
              "</table>\n",
              "<p>583 rows × 8 columns</p>\n",
              "</div>"
            ],
            "text/plain": [
              "               Date/Time  Temp (C)  ...  Stn Press (kPa)       Weather\n",
              "41   2012-01-02 17:00:00      -2.1  ...            99.66  Snow Showers\n",
              "44   2012-01-02 20:00:00      -5.6  ...           100.07  Snow Showers\n",
              "45   2012-01-02 21:00:00      -5.8  ...           100.15  Snow Showers\n",
              "47   2012-01-02 23:00:00      -7.4  ...           100.27  Snow Showers\n",
              "48   2012-01-03 00:00:00      -9.0  ...           100.35  Snow Showers\n",
              "...                  ...       ...  ...              ...           ...\n",
              "8779 2012-12-31 19:00:00       0.1  ...           100.13          Snow\n",
              "8780 2012-12-31 20:00:00       0.2  ...           100.03          Snow\n",
              "8781 2012-12-31 21:00:00      -0.5  ...            99.95          Snow\n",
              "8782 2012-12-31 22:00:00      -0.2  ...            99.91          Snow\n",
              "8783 2012-12-31 23:00:00       0.0  ...            99.89          Snow\n",
              "\n",
              "[583 rows x 8 columns]"
            ]
          },
          "metadata": {
            "tags": []
          },
          "execution_count": 33
        }
      ]
    },
    {
      "cell_type": "markdown",
      "metadata": {
        "id": "htJaB2rbyMOB"
      },
      "source": [
        "We can see that snow appeared 583 times."
      ]
    },
    {
      "cell_type": "code",
      "metadata": {
        "colab": {
          "base_uri": "https://localhost:8080/",
          "height": 204
        },
        "id": "3uiX4DKCyG0X",
        "outputId": "6b72968f-e960-44c0-fb96-d3ee5c328b1f"
      },
      "source": [
        "# Instances where the wind speed was above 24 and visibility was 25\n",
        "\n",
        "wind_vis = weather_df[(weather_df['Wind Spd (km/h)'] >24) & (weather_df['Visibility (km)']==25)]\n",
        "wind_vis.head() "
      ],
      "execution_count": 34,
      "outputs": [
        {
          "output_type": "execute_result",
          "data": {
            "text/html": [
              "<div>\n",
              "<style scoped>\n",
              "    .dataframe tbody tr th:only-of-type {\n",
              "        vertical-align: middle;\n",
              "    }\n",
              "\n",
              "    .dataframe tbody tr th {\n",
              "        vertical-align: top;\n",
              "    }\n",
              "\n",
              "    .dataframe thead th {\n",
              "        text-align: right;\n",
              "    }\n",
              "</style>\n",
              "<table border=\"1\" class=\"dataframe\">\n",
              "  <thead>\n",
              "    <tr style=\"text-align: right;\">\n",
              "      <th></th>\n",
              "      <th>Date/Time</th>\n",
              "      <th>Temp (C)</th>\n",
              "      <th>Dew Point Temp (C)</th>\n",
              "      <th>Rel Hum (%)</th>\n",
              "      <th>Wind Spd (km/h)</th>\n",
              "      <th>Visibility (km)</th>\n",
              "      <th>Stn Press (kPa)</th>\n",
              "      <th>Weather</th>\n",
              "    </tr>\n",
              "  </thead>\n",
              "  <tbody>\n",
              "    <tr>\n",
              "      <th>23</th>\n",
              "      <td>2012-01-01 23:00:00</td>\n",
              "      <td>5.3</td>\n",
              "      <td>2.0</td>\n",
              "      <td>79</td>\n",
              "      <td>30</td>\n",
              "      <td>25.0</td>\n",
              "      <td>99.31</td>\n",
              "      <td>Cloudy</td>\n",
              "    </tr>\n",
              "    <tr>\n",
              "      <th>24</th>\n",
              "      <td>2012-01-02 00:00:00</td>\n",
              "      <td>5.2</td>\n",
              "      <td>1.5</td>\n",
              "      <td>77</td>\n",
              "      <td>35</td>\n",
              "      <td>25.0</td>\n",
              "      <td>99.26</td>\n",
              "      <td>Rain Showers</td>\n",
              "    </tr>\n",
              "    <tr>\n",
              "      <th>25</th>\n",
              "      <td>2012-01-02 01:00:00</td>\n",
              "      <td>4.6</td>\n",
              "      <td>0.0</td>\n",
              "      <td>72</td>\n",
              "      <td>39</td>\n",
              "      <td>25.0</td>\n",
              "      <td>99.26</td>\n",
              "      <td>Cloudy</td>\n",
              "    </tr>\n",
              "    <tr>\n",
              "      <th>26</th>\n",
              "      <td>2012-01-02 02:00:00</td>\n",
              "      <td>3.9</td>\n",
              "      <td>-0.9</td>\n",
              "      <td>71</td>\n",
              "      <td>32</td>\n",
              "      <td>25.0</td>\n",
              "      <td>99.26</td>\n",
              "      <td>Mostly Cloudy</td>\n",
              "    </tr>\n",
              "    <tr>\n",
              "      <th>27</th>\n",
              "      <td>2012-01-02 03:00:00</td>\n",
              "      <td>3.7</td>\n",
              "      <td>-1.5</td>\n",
              "      <td>69</td>\n",
              "      <td>33</td>\n",
              "      <td>25.0</td>\n",
              "      <td>99.30</td>\n",
              "      <td>Mostly Cloudy</td>\n",
              "    </tr>\n",
              "  </tbody>\n",
              "</table>\n",
              "</div>"
            ],
            "text/plain": [
              "             Date/Time  Temp (C)  ...  Stn Press (kPa)        Weather\n",
              "23 2012-01-01 23:00:00       5.3  ...            99.31         Cloudy\n",
              "24 2012-01-02 00:00:00       5.2  ...            99.26   Rain Showers\n",
              "25 2012-01-02 01:00:00       4.6  ...            99.26         Cloudy\n",
              "26 2012-01-02 02:00:00       3.9  ...            99.26  Mostly Cloudy\n",
              "27 2012-01-02 03:00:00       3.7  ...            99.30  Mostly Cloudy\n",
              "\n",
              "[5 rows x 8 columns]"
            ]
          },
          "metadata": {
            "tags": []
          },
          "execution_count": 34
        }
      ]
    },
    {
      "cell_type": "code",
      "metadata": {
        "id": "8_QFMmNmzI9g"
      },
      "source": [
        "# Applying custom functions\n",
        "def times2(value):\n",
        "    return value * 2\n",
        "    \n",
        "t2 = weather_df['Visibility (km)'].apply(times2)\n",
        "t2.head()"
      ],
      "execution_count": 5,
      "outputs": [
        {
          "output_type": "execute_result",
          "data": {
            "text/plain": [
              "0    16.0\n",
              "1    16.0\n",
              "2     8.0\n",
              "3     8.0\n",
              "4     9.6\n",
              "Name: Visibility (km), dtype: float64"
            ]
          },
          "metadata": {},
          "execution_count": 5
        }
      ]
    },
    {
      "cell_type": "code",
      "execution_count": 6,
      "metadata": {},
      "outputs": [
        {
          "output_type": "execute_result",
          "data": {
            "text/plain": [
              "            Date/Time  Temp (C)  Dew Point Temp (C)  Rel Hum (%)  \\\n",
              "0 2012-01-01 00:00:00      -1.8                -3.9           86   \n",
              "1 2012-01-01 01:00:00      -1.8                -3.7           87   \n",
              "2 2012-01-01 02:00:00      -1.8                -3.4           89   \n",
              "3 2012-01-01 03:00:00      -1.5                -3.2           88   \n",
              "4 2012-01-01 04:00:00      -1.5                -3.3           88   \n",
              "\n",
              "   Wind Spd (km/h)  Visibility (km)  Stn Press (kPa)               Weather  \\\n",
              "0                4              8.0           101.24                   Fog   \n",
              "1                4              8.0           101.24                   Fog   \n",
              "2                7              4.0           101.26  Freezing Drizzle,Fog   \n",
              "3                6              4.0           101.27  Freezing Drizzle,Fog   \n",
              "4                7              4.8           101.23                   Fog   \n",
              "\n",
              "   Visibility (m)  \n",
              "0          8000.0  \n",
              "1          8000.0  \n",
              "2          4000.0  \n",
              "3          4000.0  \n",
              "4          4800.0  "
            ],
            "text/html": "<div>\n<style scoped>\n    .dataframe tbody tr th:only-of-type {\n        vertical-align: middle;\n    }\n\n    .dataframe tbody tr th {\n        vertical-align: top;\n    }\n\n    .dataframe thead th {\n        text-align: right;\n    }\n</style>\n<table border=\"1\" class=\"dataframe\">\n  <thead>\n    <tr style=\"text-align: right;\">\n      <th></th>\n      <th>Date/Time</th>\n      <th>Temp (C)</th>\n      <th>Dew Point Temp (C)</th>\n      <th>Rel Hum (%)</th>\n      <th>Wind Spd (km/h)</th>\n      <th>Visibility (km)</th>\n      <th>Stn Press (kPa)</th>\n      <th>Weather</th>\n      <th>Visibility (m)</th>\n    </tr>\n  </thead>\n  <tbody>\n    <tr>\n      <th>0</th>\n      <td>2012-01-01 00:00:00</td>\n      <td>-1.8</td>\n      <td>-3.9</td>\n      <td>86</td>\n      <td>4</td>\n      <td>8.0</td>\n      <td>101.24</td>\n      <td>Fog</td>\n      <td>8000.0</td>\n    </tr>\n    <tr>\n      <th>1</th>\n      <td>2012-01-01 01:00:00</td>\n      <td>-1.8</td>\n      <td>-3.7</td>\n      <td>87</td>\n      <td>4</td>\n      <td>8.0</td>\n      <td>101.24</td>\n      <td>Fog</td>\n      <td>8000.0</td>\n    </tr>\n    <tr>\n      <th>2</th>\n      <td>2012-01-01 02:00:00</td>\n      <td>-1.8</td>\n      <td>-3.4</td>\n      <td>89</td>\n      <td>7</td>\n      <td>4.0</td>\n      <td>101.26</td>\n      <td>Freezing Drizzle,Fog</td>\n      <td>4000.0</td>\n    </tr>\n    <tr>\n      <th>3</th>\n      <td>2012-01-01 03:00:00</td>\n      <td>-1.5</td>\n      <td>-3.2</td>\n      <td>88</td>\n      <td>6</td>\n      <td>4.0</td>\n      <td>101.27</td>\n      <td>Freezing Drizzle,Fog</td>\n      <td>4000.0</td>\n    </tr>\n    <tr>\n      <th>4</th>\n      <td>2012-01-01 04:00:00</td>\n      <td>-1.5</td>\n      <td>-3.3</td>\n      <td>88</td>\n      <td>7</td>\n      <td>4.8</td>\n      <td>101.23</td>\n      <td>Fog</td>\n      <td>4800.0</td>\n    </tr>\n  </tbody>\n</table>\n</div>"
          },
          "metadata": {},
          "execution_count": 6
        }
      ],
      "source": [
        "# Adding new columns the Visibility (km) \n",
        "visibility_in_meters = weather_df['Visibility (km)'] * 1000\n",
        "weather_df['Visibility (m)'] = visibility_in_meters\n",
        "\n",
        "weather_df.head()"
      ]
    },
    {
      "cell_type": "code",
      "execution_count": 11,
      "metadata": {},
      "outputs": [
        {
          "output_type": "execute_result",
          "data": {
            "text/plain": [
              "            Date/Time  Temp (C)  Dew Point Temp (C)  Rel Hum (%)  \\\n",
              "0 2012-01-01 00:00:00      -1.8                -3.9           86   \n",
              "1 2012-01-01 01:00:00      -1.8                -3.7           87   \n",
              "2 2012-01-01 02:00:00      -1.8                -3.4           89   \n",
              "3 2012-01-01 03:00:00      -1.5                -3.2           88   \n",
              "4 2012-01-01 04:00:00      -1.5                -3.3           88   \n",
              "\n",
              "   Wind Spd (km/h)  Visibility (km)  Stn Press (kPa)               Weather  \\\n",
              "0                4              8.0           101.24                   Fog   \n",
              "1                4              8.0           101.24                   Fog   \n",
              "2                7              4.0           101.26  Freezing Drizzle,Fog   \n",
              "3                6              4.0           101.27  Freezing Drizzle,Fog   \n",
              "4                7              4.8           101.23                   Fog   \n",
              "\n",
              "   Visibility (meters)  \n",
              "0               8000.0  \n",
              "1               8000.0  \n",
              "2               4000.0  \n",
              "3               4000.0  \n",
              "4               4800.0  "
            ],
            "text/html": "<div>\n<style scoped>\n    .dataframe tbody tr th:only-of-type {\n        vertical-align: middle;\n    }\n\n    .dataframe tbody tr th {\n        vertical-align: top;\n    }\n\n    .dataframe thead th {\n        text-align: right;\n    }\n</style>\n<table border=\"1\" class=\"dataframe\">\n  <thead>\n    <tr style=\"text-align: right;\">\n      <th></th>\n      <th>Date/Time</th>\n      <th>Temp (C)</th>\n      <th>Dew Point Temp (C)</th>\n      <th>Rel Hum (%)</th>\n      <th>Wind Spd (km/h)</th>\n      <th>Visibility (km)</th>\n      <th>Stn Press (kPa)</th>\n      <th>Weather</th>\n      <th>Visibility (meters)</th>\n    </tr>\n  </thead>\n  <tbody>\n    <tr>\n      <th>0</th>\n      <td>2012-01-01 00:00:00</td>\n      <td>-1.8</td>\n      <td>-3.9</td>\n      <td>86</td>\n      <td>4</td>\n      <td>8.0</td>\n      <td>101.24</td>\n      <td>Fog</td>\n      <td>8000.0</td>\n    </tr>\n    <tr>\n      <th>1</th>\n      <td>2012-01-01 01:00:00</td>\n      <td>-1.8</td>\n      <td>-3.7</td>\n      <td>87</td>\n      <td>4</td>\n      <td>8.0</td>\n      <td>101.24</td>\n      <td>Fog</td>\n      <td>8000.0</td>\n    </tr>\n    <tr>\n      <th>2</th>\n      <td>2012-01-01 02:00:00</td>\n      <td>-1.8</td>\n      <td>-3.4</td>\n      <td>89</td>\n      <td>7</td>\n      <td>4.0</td>\n      <td>101.26</td>\n      <td>Freezing Drizzle,Fog</td>\n      <td>4000.0</td>\n    </tr>\n    <tr>\n      <th>3</th>\n      <td>2012-01-01 03:00:00</td>\n      <td>-1.5</td>\n      <td>-3.2</td>\n      <td>88</td>\n      <td>6</td>\n      <td>4.0</td>\n      <td>101.27</td>\n      <td>Freezing Drizzle,Fog</td>\n      <td>4000.0</td>\n    </tr>\n    <tr>\n      <th>4</th>\n      <td>2012-01-01 04:00:00</td>\n      <td>-1.5</td>\n      <td>-3.3</td>\n      <td>88</td>\n      <td>7</td>\n      <td>4.8</td>\n      <td>101.23</td>\n      <td>Fog</td>\n      <td>4800.0</td>\n    </tr>\n  </tbody>\n</table>\n</div>"
          },
          "metadata": {},
          "execution_count": 11
        }
      ],
      "source": [
        "# Renaming columns \n",
        "weather_df.rename(columns={'Visibility (m)':'Visibility (meters)'}, inplace=True)\n",
        "weather_df.head()"
      ]
    },
    {
      "cell_type": "code",
      "execution_count": 13,
      "metadata": {},
      "outputs": [
        {
          "output_type": "execute_result",
          "data": {
            "text/plain": [
              "            Date/Time  Temp (C)  Dew Point Temp (C)  Rel Hum (%)  \\\n",
              "0 2012-01-01 00:00:00      -1.8                -3.9           86   \n",
              "1 2012-01-01 01:00:00      -1.8                -3.7           87   \n",
              "2 2012-01-01 02:00:00      -1.8                -3.4           89   \n",
              "\n",
              "   Wind Spd (km/h)  Visibility (km)  Stn Press (kPa)               Weather  \n",
              "0                4              8.0           101.24                   Fog  \n",
              "1                4              8.0           101.24                   Fog  \n",
              "2                7              4.0           101.26  Freezing Drizzle,Fog  "
            ],
            "text/html": "<div>\n<style scoped>\n    .dataframe tbody tr th:only-of-type {\n        vertical-align: middle;\n    }\n\n    .dataframe tbody tr th {\n        vertical-align: top;\n    }\n\n    .dataframe thead th {\n        text-align: right;\n    }\n</style>\n<table border=\"1\" class=\"dataframe\">\n  <thead>\n    <tr style=\"text-align: right;\">\n      <th></th>\n      <th>Date/Time</th>\n      <th>Temp (C)</th>\n      <th>Dew Point Temp (C)</th>\n      <th>Rel Hum (%)</th>\n      <th>Wind Spd (km/h)</th>\n      <th>Visibility (km)</th>\n      <th>Stn Press (kPa)</th>\n      <th>Weather</th>\n    </tr>\n  </thead>\n  <tbody>\n    <tr>\n      <th>0</th>\n      <td>2012-01-01 00:00:00</td>\n      <td>-1.8</td>\n      <td>-3.9</td>\n      <td>86</td>\n      <td>4</td>\n      <td>8.0</td>\n      <td>101.24</td>\n      <td>Fog</td>\n    </tr>\n    <tr>\n      <th>1</th>\n      <td>2012-01-01 01:00:00</td>\n      <td>-1.8</td>\n      <td>-3.7</td>\n      <td>87</td>\n      <td>4</td>\n      <td>8.0</td>\n      <td>101.24</td>\n      <td>Fog</td>\n    </tr>\n    <tr>\n      <th>2</th>\n      <td>2012-01-01 02:00:00</td>\n      <td>-1.8</td>\n      <td>-3.4</td>\n      <td>89</td>\n      <td>7</td>\n      <td>4.0</td>\n      <td>101.26</td>\n      <td>Freezing Drizzle,Fog</td>\n    </tr>\n  </tbody>\n</table>\n</div>"
          },
          "metadata": {},
          "execution_count": 13
        }
      ],
      "source": [
        "#Deleting columns\n",
        "weather_df.drop(labels=['Visibility (meters)'], axis=1).head(3)\n",
        "\n",
        "#Alternatively\n",
        "# del weather_df2['Visibility (meters)']"
      ]
    },
    {
      "cell_type": "code",
      "execution_count": 15,
      "metadata": {},
      "outputs": [
        {
          "output_type": "execute_result",
          "data": {
            "text/plain": [
              "               Date/Time  Temp (C)  Dew Point Temp (C)  Rel Hum (%)  \\\n",
              "4695 2012-07-14 15:00:00      33.0                16.8           38   \n",
              "4143 2012-06-21 15:00:00      33.0                19.0           44   \n",
              "4696 2012-07-14 16:00:00      32.9                15.3           35   \n",
              "5199 2012-08-04 15:00:00      32.8                18.8           44   \n",
              "4694 2012-07-14 14:00:00      32.7                15.3           35   \n",
              "4142 2012-06-21 14:00:00      32.6                20.4           49   \n",
              "5201 2012-08-04 17:00:00      32.5                19.8           47   \n",
              "5200 2012-08-04 16:00:00      32.5                18.5           44   \n",
              "4697 2012-07-14 17:00:00      32.5                16.5           38   \n",
              "4144 2012-06-21 16:00:00      32.5                17.9           42   \n",
              "\n",
              "      Wind Spd (km/h)  Visibility (km)  Stn Press (kPa)       Weather  \\\n",
              "4695               22             48.3           101.31  Mainly Clear   \n",
              "4143               24             24.1           100.20  Mainly Clear   \n",
              "4696               24             48.3           101.26  Mainly Clear   \n",
              "5199               17             24.1           101.39         Clear   \n",
              "4694               28             48.3           101.35  Mainly Clear   \n",
              "4142               20             24.1           100.25  Mainly Clear   \n",
              "5201               13             24.1           101.32         Clear   \n",
              "5200               15             24.1           101.34         Clear   \n",
              "4697               19             48.3           101.22  Mainly Clear   \n",
              "4144               24             24.1           100.14  Mainly Clear   \n",
              "\n",
              "      Visibility (meters)  \n",
              "4695              48300.0  \n",
              "4143              24100.0  \n",
              "4696              48300.0  \n",
              "5199              24100.0  \n",
              "4694              48300.0  \n",
              "4142              24100.0  \n",
              "5201              24100.0  \n",
              "5200              24100.0  \n",
              "4697              48300.0  \n",
              "4144              24100.0  "
            ],
            "text/html": "<div>\n<style scoped>\n    .dataframe tbody tr th:only-of-type {\n        vertical-align: middle;\n    }\n\n    .dataframe tbody tr th {\n        vertical-align: top;\n    }\n\n    .dataframe thead th {\n        text-align: right;\n    }\n</style>\n<table border=\"1\" class=\"dataframe\">\n  <thead>\n    <tr style=\"text-align: right;\">\n      <th></th>\n      <th>Date/Time</th>\n      <th>Temp (C)</th>\n      <th>Dew Point Temp (C)</th>\n      <th>Rel Hum (%)</th>\n      <th>Wind Spd (km/h)</th>\n      <th>Visibility (km)</th>\n      <th>Stn Press (kPa)</th>\n      <th>Weather</th>\n      <th>Visibility (meters)</th>\n    </tr>\n  </thead>\n  <tbody>\n    <tr>\n      <th>4695</th>\n      <td>2012-07-14 15:00:00</td>\n      <td>33.0</td>\n      <td>16.8</td>\n      <td>38</td>\n      <td>22</td>\n      <td>48.3</td>\n      <td>101.31</td>\n      <td>Mainly Clear</td>\n      <td>48300.0</td>\n    </tr>\n    <tr>\n      <th>4143</th>\n      <td>2012-06-21 15:00:00</td>\n      <td>33.0</td>\n      <td>19.0</td>\n      <td>44</td>\n      <td>24</td>\n      <td>24.1</td>\n      <td>100.20</td>\n      <td>Mainly Clear</td>\n      <td>24100.0</td>\n    </tr>\n    <tr>\n      <th>4696</th>\n      <td>2012-07-14 16:00:00</td>\n      <td>32.9</td>\n      <td>15.3</td>\n      <td>35</td>\n      <td>24</td>\n      <td>48.3</td>\n      <td>101.26</td>\n      <td>Mainly Clear</td>\n      <td>48300.0</td>\n    </tr>\n    <tr>\n      <th>5199</th>\n      <td>2012-08-04 15:00:00</td>\n      <td>32.8</td>\n      <td>18.8</td>\n      <td>44</td>\n      <td>17</td>\n      <td>24.1</td>\n      <td>101.39</td>\n      <td>Clear</td>\n      <td>24100.0</td>\n    </tr>\n    <tr>\n      <th>4694</th>\n      <td>2012-07-14 14:00:00</td>\n      <td>32.7</td>\n      <td>15.3</td>\n      <td>35</td>\n      <td>28</td>\n      <td>48.3</td>\n      <td>101.35</td>\n      <td>Mainly Clear</td>\n      <td>48300.0</td>\n    </tr>\n    <tr>\n      <th>4142</th>\n      <td>2012-06-21 14:00:00</td>\n      <td>32.6</td>\n      <td>20.4</td>\n      <td>49</td>\n      <td>20</td>\n      <td>24.1</td>\n      <td>100.25</td>\n      <td>Mainly Clear</td>\n      <td>24100.0</td>\n    </tr>\n    <tr>\n      <th>5201</th>\n      <td>2012-08-04 17:00:00</td>\n      <td>32.5</td>\n      <td>19.8</td>\n      <td>47</td>\n      <td>13</td>\n      <td>24.1</td>\n      <td>101.32</td>\n      <td>Clear</td>\n      <td>24100.0</td>\n    </tr>\n    <tr>\n      <th>5200</th>\n      <td>2012-08-04 16:00:00</td>\n      <td>32.5</td>\n      <td>18.5</td>\n      <td>44</td>\n      <td>15</td>\n      <td>24.1</td>\n      <td>101.34</td>\n      <td>Clear</td>\n      <td>24100.0</td>\n    </tr>\n    <tr>\n      <th>4697</th>\n      <td>2012-07-14 17:00:00</td>\n      <td>32.5</td>\n      <td>16.5</td>\n      <td>38</td>\n      <td>19</td>\n      <td>48.3</td>\n      <td>101.22</td>\n      <td>Mainly Clear</td>\n      <td>48300.0</td>\n    </tr>\n    <tr>\n      <th>4144</th>\n      <td>2012-06-21 16:00:00</td>\n      <td>32.5</td>\n      <td>17.9</td>\n      <td>42</td>\n      <td>24</td>\n      <td>24.1</td>\n      <td>100.14</td>\n      <td>Mainly Clear</td>\n      <td>24100.0</td>\n    </tr>\n  </tbody>\n</table>\n</div>"
          },
          "metadata": {},
          "execution_count": 15
        }
      ],
      "source": [
        "# Sorting values from the highest temp\n",
        "sort_by_temp = weather_df.sort_values('Temp (C)', ascending= False)\n",
        "sort_by_temp.head(10)"
      ]
    },
    {
      "cell_type": "code",
      "execution_count": 17,
      "metadata": {},
      "outputs": [
        {
          "output_type": "execute_result",
          "data": {
            "text/plain": [
              "16.6    65\n",
              "1.1     58\n",
              "0.8     47\n",
              "1.5     45\n",
              "19.3    44\n",
              "2.6     43\n",
              "21.1    43\n",
              "0.4     41\n",
              "1.3     40\n",
              "14.6    39\n",
              "Name: Temp (C), dtype: int64"
            ]
          },
          "metadata": {},
          "execution_count": 17
        }
      ],
      "source": [
        "# Hottest values and their counts\n",
        "sorted_counts = weather_df['Temp (C)'].value_counts().sort_values(ascending=False)\n",
        "sorted_counts.iloc[:10]"
      ]
    },
    {
      "cell_type": "code",
      "execution_count": 19,
      "metadata": {},
      "outputs": [
        {
          "output_type": "execute_result",
          "data": {
            "text/plain": [
              "1     -7.371505\n",
              "2     -4.225000\n",
              "3      3.121237\n",
              "4      7.009306\n",
              "5     16.237769\n",
              "6     20.134028\n",
              "7     22.790054\n",
              "8     22.279301\n",
              "9     16.484444\n",
              "10    10.954973\n",
              "11     0.931389\n",
              "12    -3.306317\n",
              "dtype: float64"
            ]
          },
          "metadata": {},
          "execution_count": 19
        }
      ],
      "source": [
        "# Mean temperatures per month\n",
        "mean = {}\n",
        "\n",
        "for month in range(1,13):\n",
        "    mean[month] = weather_df.loc[weather_df['Date/Time'].dt.month == month, 'Temp (C)'].mean()\n",
        "\n",
        "pd.Series(mean)"
      ]
    },
    {
      "cell_type": "code",
      "execution_count": 21,
      "metadata": {},
      "outputs": [
        {
          "output_type": "execute_result",
          "data": {
            "text/plain": [
              "4    474\n",
              "Name: Wind Spd (km/h), dtype: int64"
            ]
          },
          "metadata": {},
          "execution_count": 21
        }
      ],
      "source": [
        "#Number of times the wind speed was exactly 4 km/h\n",
        "weather_df['Wind Spd (km/h)'] [weather_df['Wind Spd (km/h)']==4].value_counts()"
      ]
    },
    {
      "cell_type": "code",
      "execution_count": 20,
      "metadata": {},
      "outputs": [
        {
          "output_type": "execute_result",
          "data": {
            "text/plain": [
              "    Date/Time   Temp (C)  Dew Point Temp (C)  Rel Hum (%)  Wind Spd (km/h)  \\\n",
              "0           1  -7.371505          -12.294758    68.383065        18.108871   \n",
              "1           2  -4.225000           -9.221695    68.956897        14.837644   \n",
              "2           3   3.121237           -3.488575    64.862903        14.514785   \n",
              "3           4   7.009306           -1.934583    56.150000        17.369444   \n",
              "4           5  16.237769            8.080780    61.760753        12.846774   \n",
              "5           6  20.134028           11.738056    60.643056        14.681944   \n",
              "6           7  22.790054           14.595430    62.017473        11.887097   \n",
              "7           8  22.279301           15.644758    67.943548        13.931452   \n",
              "8           9  16.484444           10.757917    71.165278        14.108333   \n",
              "9          10  10.954973            6.533468    75.731183        15.475806   \n",
              "10         11   0.931389           -4.179306    69.984722        13.973611   \n",
              "11         12  -3.306317           -6.129032    81.299731        17.614247   \n",
              "\n",
              "    Visibility (km)  Stn Press (kPa)  Visibility (meters)  \n",
              "0         22.100269       101.005349         22100.268817  \n",
              "1         25.182184       101.142414         25182.183908  \n",
              "2         26.177957       101.335255         26177.956989  \n",
              "3         31.777083       100.716833         31777.083333  \n",
              "4         29.418548       101.057164         29418.548387  \n",
              "5         32.104167       100.784222         32104.166667  \n",
              "6         33.655108       100.828333         33655.107527  \n",
              "7         30.192608       100.927097         30192.607527  \n",
              "8         30.603472       101.087903         30603.472222  \n",
              "9         25.111022       100.909368         25111.021505  \n",
              "10        26.077083       101.658306         26077.083333  \n",
              "11        19.733199       101.174409         19733.198925  "
            ],
            "text/html": "<div>\n<style scoped>\n    .dataframe tbody tr th:only-of-type {\n        vertical-align: middle;\n    }\n\n    .dataframe tbody tr th {\n        vertical-align: top;\n    }\n\n    .dataframe thead th {\n        text-align: right;\n    }\n</style>\n<table border=\"1\" class=\"dataframe\">\n  <thead>\n    <tr style=\"text-align: right;\">\n      <th></th>\n      <th>Date/Time</th>\n      <th>Temp (C)</th>\n      <th>Dew Point Temp (C)</th>\n      <th>Rel Hum (%)</th>\n      <th>Wind Spd (km/h)</th>\n      <th>Visibility (km)</th>\n      <th>Stn Press (kPa)</th>\n      <th>Visibility (meters)</th>\n    </tr>\n  </thead>\n  <tbody>\n    <tr>\n      <th>0</th>\n      <td>1</td>\n      <td>-7.371505</td>\n      <td>-12.294758</td>\n      <td>68.383065</td>\n      <td>18.108871</td>\n      <td>22.100269</td>\n      <td>101.005349</td>\n      <td>22100.268817</td>\n    </tr>\n    <tr>\n      <th>1</th>\n      <td>2</td>\n      <td>-4.225000</td>\n      <td>-9.221695</td>\n      <td>68.956897</td>\n      <td>14.837644</td>\n      <td>25.182184</td>\n      <td>101.142414</td>\n      <td>25182.183908</td>\n    </tr>\n    <tr>\n      <th>2</th>\n      <td>3</td>\n      <td>3.121237</td>\n      <td>-3.488575</td>\n      <td>64.862903</td>\n      <td>14.514785</td>\n      <td>26.177957</td>\n      <td>101.335255</td>\n      <td>26177.956989</td>\n    </tr>\n    <tr>\n      <th>3</th>\n      <td>4</td>\n      <td>7.009306</td>\n      <td>-1.934583</td>\n      <td>56.150000</td>\n      <td>17.369444</td>\n      <td>31.777083</td>\n      <td>100.716833</td>\n      <td>31777.083333</td>\n    </tr>\n    <tr>\n      <th>4</th>\n      <td>5</td>\n      <td>16.237769</td>\n      <td>8.080780</td>\n      <td>61.760753</td>\n      <td>12.846774</td>\n      <td>29.418548</td>\n      <td>101.057164</td>\n      <td>29418.548387</td>\n    </tr>\n    <tr>\n      <th>5</th>\n      <td>6</td>\n      <td>20.134028</td>\n      <td>11.738056</td>\n      <td>60.643056</td>\n      <td>14.681944</td>\n      <td>32.104167</td>\n      <td>100.784222</td>\n      <td>32104.166667</td>\n    </tr>\n    <tr>\n      <th>6</th>\n      <td>7</td>\n      <td>22.790054</td>\n      <td>14.595430</td>\n      <td>62.017473</td>\n      <td>11.887097</td>\n      <td>33.655108</td>\n      <td>100.828333</td>\n      <td>33655.107527</td>\n    </tr>\n    <tr>\n      <th>7</th>\n      <td>8</td>\n      <td>22.279301</td>\n      <td>15.644758</td>\n      <td>67.943548</td>\n      <td>13.931452</td>\n      <td>30.192608</td>\n      <td>100.927097</td>\n      <td>30192.607527</td>\n    </tr>\n    <tr>\n      <th>8</th>\n      <td>9</td>\n      <td>16.484444</td>\n      <td>10.757917</td>\n      <td>71.165278</td>\n      <td>14.108333</td>\n      <td>30.603472</td>\n      <td>101.087903</td>\n      <td>30603.472222</td>\n    </tr>\n    <tr>\n      <th>9</th>\n      <td>10</td>\n      <td>10.954973</td>\n      <td>6.533468</td>\n      <td>75.731183</td>\n      <td>15.475806</td>\n      <td>25.111022</td>\n      <td>100.909368</td>\n      <td>25111.021505</td>\n    </tr>\n    <tr>\n      <th>10</th>\n      <td>11</td>\n      <td>0.931389</td>\n      <td>-4.179306</td>\n      <td>69.984722</td>\n      <td>13.973611</td>\n      <td>26.077083</td>\n      <td>101.658306</td>\n      <td>26077.083333</td>\n    </tr>\n    <tr>\n      <th>11</th>\n      <td>12</td>\n      <td>-3.306317</td>\n      <td>-6.129032</td>\n      <td>81.299731</td>\n      <td>17.614247</td>\n      <td>19.733199</td>\n      <td>101.174409</td>\n      <td>19733.198925</td>\n    </tr>\n  </tbody>\n</table>\n</div>"
          },
          "metadata": {},
          "execution_count": 20
        }
      ],
      "source": [
        "mean_temparature_df2 = weather_df.groupby(weather_df['Date/Time'].dt.month).agg(np.mean).reset_index()\n",
        "mean_temparature_df2"
      ]
    },
    {
      "cell_type": "code",
      "execution_count": null,
      "metadata": {},
      "outputs": [],
      "source": []
    }
  ]
}