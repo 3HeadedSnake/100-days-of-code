{
 "metadata": {
  "language_info": {
   "codemirror_mode": {
    "name": "ipython",
    "version": 3
   },
   "file_extension": ".py",
   "mimetype": "text/x-python",
   "name": "python",
   "nbconvert_exporter": "python",
   "pygments_lexer": "ipython3",
   "version": "3.8.6"
  },
  "orig_nbformat": 2,
  "kernelspec": {
   "name": "python386jvsc74a57bd031f2aee4e71d21fbe5cf8b01ff0e069b9275f58929596ceb00d14d90e3e16cd6",
   "display_name": "Python 3.8.6 64-bit"
  },
  "metadata": {
   "interpreter": {
    "hash": "31f2aee4e71d21fbe5cf8b01ff0e069b9275f58929596ceb00d14d90e3e16cd6"
   }
  }
 },
 "nbformat": 4,
 "nbformat_minor": 2,
 "cells": [
  {
   "cell_type": "code",
   "execution_count": 7,
   "metadata": {},
   "outputs": [],
   "source": [
    "# Imports\n",
    "import pandas as pd\n",
    "import numpy as np\n",
    "from sklearn.metrics import mean_squared_error"
   ]
  },
  {
   "cell_type": "code",
   "execution_count": 8,
   "metadata": {},
   "outputs": [
    {
     "output_type": "execute_result",
     "data": {
      "text/plain": [
       "   displ   hp  weight  accel  size   mpg\n",
       "0  250.0   88    3139   14.5  15.0  18.0\n",
       "1  304.0  193    4732   18.5  20.0   9.0\n",
       "2   91.0   60    1800   16.4  10.0  36.1\n",
       "3  250.0   98    3525   19.0  15.0  18.5\n",
       "4   97.0   78    2188   15.8  10.0  34.3"
      ],
      "text/html": "<div>\n<style scoped>\n    .dataframe tbody tr th:only-of-type {\n        vertical-align: middle;\n    }\n\n    .dataframe tbody tr th {\n        vertical-align: top;\n    }\n\n    .dataframe thead th {\n        text-align: right;\n    }\n</style>\n<table border=\"1\" class=\"dataframe\">\n  <thead>\n    <tr style=\"text-align: right;\">\n      <th></th>\n      <th>displ</th>\n      <th>hp</th>\n      <th>weight</th>\n      <th>accel</th>\n      <th>size</th>\n      <th>mpg</th>\n    </tr>\n  </thead>\n  <tbody>\n    <tr>\n      <th>0</th>\n      <td>250.0</td>\n      <td>88</td>\n      <td>3139</td>\n      <td>14.5</td>\n      <td>15.0</td>\n      <td>18.0</td>\n    </tr>\n    <tr>\n      <th>1</th>\n      <td>304.0</td>\n      <td>193</td>\n      <td>4732</td>\n      <td>18.5</td>\n      <td>20.0</td>\n      <td>9.0</td>\n    </tr>\n    <tr>\n      <th>2</th>\n      <td>91.0</td>\n      <td>60</td>\n      <td>1800</td>\n      <td>16.4</td>\n      <td>10.0</td>\n      <td>36.1</td>\n    </tr>\n    <tr>\n      <th>3</th>\n      <td>250.0</td>\n      <td>98</td>\n      <td>3525</td>\n      <td>19.0</td>\n      <td>15.0</td>\n      <td>18.5</td>\n    </tr>\n    <tr>\n      <th>4</th>\n      <td>97.0</td>\n      <td>78</td>\n      <td>2188</td>\n      <td>15.8</td>\n      <td>10.0</td>\n      <td>34.3</td>\n    </tr>\n  </tbody>\n</table>\n</div>"
     },
     "metadata": {},
     "execution_count": 8
    }
   ],
   "source": [
    "# Let's load our dataset\n",
    "df = pd.read_csv('auto.csv')\n",
    "mpg = df.iloc[:,0]\n",
    "df.drop(['origin','mpg'],axis=1,inplace=True)\n",
    "df = pd.concat([df,mpg],axis=1)\n",
    "df.head()"
   ]
  },
  {
   "cell_type": "code",
   "execution_count": 12,
   "metadata": {},
   "outputs": [],
   "source": [
    "# Performs a Hold-Out cross-validation by splitting the data into train and test.\n",
    "from sklearn.model_selection import train_test_split as tts\n",
    "\n",
    "X = df.iloc[:,:-1]\n",
    "y = df.iloc[:,-1]\n",
    "X_train,X_test,y_train,y_test = tts(X,y,test_size=0.2,random_state=9)"
   ]
  },
  {
   "source": [
    "# Let's now try and fit a Linear Regression model and find the mean squareed error\n",
    "from sklearn.linear_model import LinearRegression\n",
    "\n",
    "linreg = LinearRegression()\n",
    "linreg.fit(X_train,y_train)\n",
    "y_pred_1 = linreg.predict(X_test)\n",
    "print(mean_squared_error(y_test,y_pred_1))"
   ],
   "cell_type": "code",
   "metadata": {},
   "execution_count": 13,
   "outputs": [
    {
     "output_type": "stream",
     "name": "stdout",
     "text": [
      "13.244277573105247\n"
     ]
    }
   ]
  },
  {
   "cell_type": "code",
   "execution_count": 14,
   "metadata": {},
   "outputs": [
    {
     "output_type": "stream",
     "name": "stdout",
     "text": [
      "13.696452547280678\n"
     ]
    }
   ],
   "source": [
    "# Let's now try fitting a Lasso model on the validated dataset where the max_inter = 100000\n",
    "from sklearn.linear_model import Lasso\n",
    "\n",
    "lasso = Lasso(alpha=140,max_iter=100000, random_state=9)\n",
    "lasso.fit(X_train,y_train)\n",
    "y_pred_2 = lasso.predict(X_test)\n",
    "print(mean_squared_error(y_test,y_pred_2))"
   ]
  },
  {
   "cell_type": "code",
   "execution_count": 15,
   "metadata": {},
   "outputs": [
    {
     "output_type": "stream",
     "name": "stdout",
     "text": [
      "13.244277574130908\n"
     ]
    }
   ],
   "source": [
    "# Let's now try fitting an alpha model where alpha= 0.00001\n",
    "from sklearn.linear_model import Ridge\n",
    "\n",
    "ridge = Ridge(alpha=0.00001, max_iter=100000, random_state=9)\n",
    "ridge.fit(X_train,y_train)\n",
    "y_pred_3 = ridge.predict(X_test)\n",
    "print(mean_squared_error(y_test,y_pred_3))"
   ]
  },
  {
   "cell_type": "code",
   "execution_count": 16,
   "metadata": {},
   "outputs": [
    {
     "output_type": "stream",
     "name": "stdout",
     "text": [
      "-18.22493195443876\n"
     ]
    }
   ],
   "source": [
    "# Let's perform a cross validation on a linear regression model with parameter cv = 5 and the scoring parameter as negative MSE\n",
    "from sklearn.model_selection import cross_val_score\n",
    "\n",
    "cross_val_scores = cross_val_score(linreg,X,y,scoring=\"neg_mean_squared_error\",cv=5)\n",
    "print(cross_val_scores.mean())"
   ]
  },
  {
   "cell_type": "code",
   "execution_count": null,
   "metadata": {},
   "outputs": [],
   "source": []
  }
 ]
}